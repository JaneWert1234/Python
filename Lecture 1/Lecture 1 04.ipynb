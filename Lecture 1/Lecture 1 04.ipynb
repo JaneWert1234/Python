{
 "cells": [
  {
   "cell_type": "code",
   "execution_count": 1,
   "metadata": {},
   "outputs": [],
   "source": [
    "import numpy as np"
   ]
  },
  {
   "cell_type": "code",
   "execution_count": 3,
   "metadata": {},
   "outputs": [
    {
     "name": "stdout",
     "output_type": "stream",
     "text": [
      "[6. 4. 9.]\n",
      "[-4.  0. -3.]\n",
      "[ 5.  4. 18.]\n",
      "[5. 1. 2.]\n",
      "[  5.   4. 216.]\n",
      "27.0\n"
     ]
    }
   ],
   "source": [
    "#Универсальные функции\n",
    "a = np.array([1,2,3], float)\n",
    "b = np.array([5,2,6], float)\n",
    "print(a + b)            #поэлементное сложение массивов\n",
    "print(a-b)              #поэлементная разность массивов\n",
    "print(a * b)            #поэлементное перемножение массивов\n",
    "print(b / a)            #поэлементное деление массивов\n",
    "print(b**a)             #поэлементно возведение в степень массива b элементами массива a\n",
    "print(np.dot(a, b))     #матричное произведение массивов"
   ]
  },
  {
   "cell_type": "code",
   "execution_count": 4,
   "metadata": {},
   "outputs": [
    {
     "name": "stdout",
     "output_type": "stream",
     "text": [
      "[0. 1. 2. 3. 4. 5. 6. 7. 8. 9.]\n",
      "[ 0.          0.84147098  0.90929743  0.14112001 -0.7568025  -0.95892427\n",
      " -0.2794155   0.6569866   0.98935825  0.41211849]\n",
      "<class 'numpy.ndarray'>\n",
      "[0.         1.         1.41421356 1.73205081 2.         2.23606798\n",
      " 2.44948974 2.64575131 2.82842712 3.        ]\n"
     ]
    }
   ],
   "source": [
    "x = np.linspace(0, 9, 10)\n",
    "print(x)\n",
    "y = np.sin(x)     #нахождение синусов всех элементов массива\n",
    "print(y)\n",
    "print(type(y))     \n",
    "y2 = np.sqrt(x)\n",
    "print(y2)         #нахождение кв. кореней всех элементов массива"
   ]
  },
  {
   "cell_type": "code",
   "execution_count": null,
   "metadata": {},
   "outputs": [],
   "source": []
  }
 ],
 "metadata": {
  "kernelspec": {
   "display_name": "Python 3",
   "language": "python",
   "name": "python3"
  },
  "language_info": {
   "codemirror_mode": {
    "name": "ipython",
    "version": 3
   },
   "file_extension": ".py",
   "mimetype": "text/x-python",
   "name": "python",
   "nbconvert_exporter": "python",
   "pygments_lexer": "ipython3",
   "version": "3.8.5"
  }
 },
 "nbformat": 4,
 "nbformat_minor": 4
}
