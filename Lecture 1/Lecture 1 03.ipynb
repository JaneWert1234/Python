{
 "cells": [
  {
   "cell_type": "code",
   "execution_count": 1,
   "metadata": {},
   "outputs": [],
   "source": [
    "import numpy as np"
   ]
  },
  {
   "cell_type": "code",
   "execution_count": 3,
   "metadata": {},
   "outputs": [
    {
     "name": "stdout",
     "output_type": "stream",
     "text": [
      "9.0\n",
      "24.0\n",
      "3.0\n",
      "2.0\n",
      "4.0\n",
      "0\n",
      "1\n",
      "3\n",
      "1\n",
      "(3,)\n",
      "[[  0   1   2]\n",
      " [ 10  20 101]]\n",
      "(2, 3)\n"
     ]
    }
   ],
   "source": [
    "#функции\n",
    "a = np.array([2, 4, 3], float)\n",
    "print(a.sum())     #сумма всех элементов массива\n",
    "print(a.prod())    #произведение всех элементов массива\n",
    "print(a.mean())    #среднее арифметическое значение всех элементов массива\n",
    "print(a.min())     #минимальный элемент массива\n",
    "print(a.max())     #максимальный элемент массива\n",
    "print(a.argmin())  #индекс минимального элемента массива\n",
    "print(a.argmax())  #индекс максимального элемента массива\n",
    "print(a.size)      #число элементов массива\n",
    "print(a.ndim)      #размерность массива\n",
    "print(a.shape)     #количество элементов в каждом из измерений массива (для одномерного массива)\n",
    "a2 = np.array([[0, 1, 2], [10, 20, 101]])  \n",
    "print(a2)\n",
    "print(a2.shape)    #количество элементов в каждом из измерений массива (для двумерного массива)"
   ]
  },
  {
   "cell_type": "code",
   "execution_count": null,
   "metadata": {},
   "outputs": [],
   "source": []
  }
 ],
 "metadata": {
  "kernelspec": {
   "display_name": "Python 3",
   "language": "python",
   "name": "python3"
  },
  "language_info": {
   "codemirror_mode": {
    "name": "ipython",
    "version": 3
   },
   "file_extension": ".py",
   "mimetype": "text/x-python",
   "name": "python",
   "nbconvert_exporter": "python",
   "pygments_lexer": "ipython3",
   "version": "3.8.5"
  }
 },
 "nbformat": 4,
 "nbformat_minor": 4
}
