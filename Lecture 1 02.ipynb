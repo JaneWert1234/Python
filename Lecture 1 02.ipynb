{
 "cells": [
  {
   "cell_type": "code",
   "execution_count": 2,
   "metadata": {},
   "outputs": [],
   "source": [
    "import numpy as np"
   ]
  },
  {
   "cell_type": "code",
   "execution_count": 3,
   "metadata": {},
   "outputs": [
    {
     "name": "stdout",
     "output_type": "stream",
     "text": [
      "8 1\n"
     ]
    }
   ],
   "source": [
    "#доступ к элементам одномерного массива\n",
    "a1 = np.array([1, 4, 5, 8])\n",
    "print(a1[3], a1[0])"
   ]
  },
  {
   "cell_type": "code",
   "execution_count": 4,
   "metadata": {},
   "outputs": [
    {
     "name": "stdout",
     "output_type": "stream",
     "text": [
      "2.0\n"
     ]
    }
   ],
   "source": [
    "#доступ к элементам двумерного массива\n",
    "a2 = np.array([[1, 2, 3], [4, 5, 6]], dtype=float)\n",
    "print(a2[0, 1])"
   ]
  },
  {
   "cell_type": "code",
   "execution_count": 10,
   "metadata": {},
   "outputs": [
    {
     "name": "stdout",
     "output_type": "stream",
     "text": [
      "[0.   0.25 0.5  0.75 1.   1.25 1.5  1.75 2.  ]\n",
      "[0.25 0.5  0.75 1.  ]\n",
      "[0.25 0.5 ]\n",
      "[0.   0.25 0.5  0.75 1.   1.25 1.5  1.75 2.  ]\n",
      "[0.   0.25 0.5  0.75 1.   1.25 1.5  1.75 2.  ]\n",
      "[0.  0.5 1.  1.5 2. ]\n",
      "[1.   1.25 1.5  1.75 2.  ]\n",
      "[1.5  1.75 2.  ]\n",
      "[0.   0.25 0.5  0.75 1.   1.25]\n",
      "[2.   1.75 1.5  1.25 1.   0.75 0.5  0.25 0.  ]\n"
     ]
    }
   ],
   "source": [
    "#срезы в одномерных массивах\n",
    "a3 = np.linspace(0, 2, 9) \n",
    "print(a3)\n",
    "print(a3[1:5:1])                   #вывод среза массива с 1-го элемента по 4-ый с шагом 1\n",
    "print(a3[1:3])                     #вывод среза массива с 1-го элемента по 2-ой\n",
    "print(a3[::])                      #вывод всего массива\n",
    "print(a3[:])                       #вывод всего массива\n",
    "print(a3[::2])                     #вывод каждого второго элемента массива\n",
    "print(a3[4:])                      #вывод  массива начиная с 4-го элемента и до конца\n",
    "print(a3[-3::])                    #вывод массива начиная с (9-3) = 6-го элемента и до конца\n",
    "print(a3[:-3:])                    #вывод массива начиная с начала и заканчивая (9-3) = 6-ым элементом (не включительно)\n",
    "print(a3[::-1])                    #вывод массива в обратном порядке"
   ]
  },
  {
   "cell_type": "code",
   "execution_count": 11,
   "metadata": {},
   "outputs": [
    {
     "name": "stdout",
     "output_type": "stream",
     "text": [
      "[[-1  0  2  4]\n",
      " [10 20 40 80]\n",
      " [ 7  7  7  7]]\n",
      "[-1 10  7]\n",
      "[ 0 20  7]\n",
      "[10 20 40 80]\n",
      "[7 7 7 7]\n"
     ]
    }
   ],
   "source": [
    "#срезы в двумерных массивах\n",
    "a4 = np.array([[-1, 0, 2, 4], [10, 20, 40, 80], [7, 7, 7, 7]])\n",
    "print(a4)\n",
    "print(a4[:, 0])                         #вывод нулевого столбца массива\n",
    "print(a4[:, 1])                         #вывод первого столбца массива\n",
    "print(a4[1, :])                         #вывод первой строки массива\n",
    "print(a4[2, :])                         #вывод второй строки массива"
   ]
  },
  {
   "cell_type": "code",
   "execution_count": 12,
   "metadata": {},
   "outputs": [
    {
     "name": "stdout",
     "output_type": "stream",
     "text": [
      "[17 27 47 87]\n"
     ]
    }
   ],
   "source": [
    "#создаем одномерный массив из суммы 1-ой и 2-ой строк масива a4\n",
    "new_array = a4[1, :] + a4[2, :]\n",
    "print(new_array)"
   ]
  },
  {
   "cell_type": "code",
   "execution_count": null,
   "metadata": {},
   "outputs": [],
   "source": []
  }
 ],
 "metadata": {
  "kernelspec": {
   "display_name": "Python 3",
   "language": "python",
   "name": "python3"
  },
  "language_info": {
   "codemirror_mode": {
    "name": "ipython",
    "version": 3
   },
   "file_extension": ".py",
   "mimetype": "text/x-python",
   "name": "python",
   "nbconvert_exporter": "python",
   "pygments_lexer": "ipython3",
   "version": "3.8.5"
  }
 },
 "nbformat": 4,
 "nbformat_minor": 4
}
