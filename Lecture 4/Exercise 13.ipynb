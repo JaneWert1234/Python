{
 "cells": [
  {
   "cell_type": "code",
   "execution_count": 30,
   "metadata": {},
   "outputs": [],
   "source": [
    "#подключение библиотек\n",
    "import matplotlib.pyplot as plt\n",
    "import numpy as np\n",
    "from scipy import integrate\n",
    "from scipy.interpolate import interp1d"
   ]
  },
  {
   "cell_type": "code",
   "execution_count": 2,
   "metadata": {},
   "outputs": [],
   "source": [
    "#численное решение диф ур-ния\n",
    "def f(y, x):\n",
    "    return 0.5*(np.exp(2*x) - y)"
   ]
  },
  {
   "cell_type": "code",
   "execution_count": 3,
   "metadata": {},
   "outputs": [],
   "source": [
    "#точное решение диф ур-ния\n",
    "def f_exact(x):\n",
    "    return 0.2*(np.exp(2*x)+4*np.exp(-x/2))"
   ]
  },
  {
   "cell_type": "code",
   "execution_count": 26,
   "metadata": {},
   "outputs": [],
   "source": [
    "#ошибка\n",
    "def error(f,sol,x):\n",
    "    e=[]\n",
    "    h=min(x)\n",
    "    for i in range(len(x)):\n",
    "        h +=max(x)/len(x) \n",
    "        e.append(np.abs(sol[i][0]-f(h))/sol[i][0])\n",
    "    return e"
   ]
  },
  {
   "cell_type": "code",
   "execution_count": 72,
   "metadata": {},
   "outputs": [
    {
     "data": {
      "image/png": "[encoded data removed]",
      "text/plain": [
       "<Figure size 432x288 with 3 Axes>"
      ]
     },
     "metadata": {
      "needs_background": "light"
     },
     "output_type": "display_data"
    }
   ],
   "source": [
    "# массив точек интегрирования\n",
    "xi = np.linspace(0, 10, 50)\n",
    "# начальная координата\n",
    "y0 = 1.0\n",
    "# решение ОДУ\n",
    "sol = integrate.odeint(f, y0, xi)\n",
    "# рисунок для построения графиков функций y(x)\n",
    "fig = plt.figure()\n",
    "ax1 = fig.add_subplot(221)\n",
    "ax2 = fig.add_subplot(222)\n",
    "ax3 = fig.add_subplot(223)\n",
    "#график точного решения ДУ\n",
    "ax1.plot(xi, f_exact(xi), '-', color='green', )\n",
    "ax1.set_xlabel(r'$x$')\n",
    "ax1.set_ylabel(r'$y$')\n",
    "ax1.set_title('точное решение', pad = 10, fontsize = 12)\n",
    "#график численного решения ДУ\n",
    "ax2.plot(xi, sol, '-', color='blue')\n",
    "ax2.set_xlabel('x')\n",
    "ax2.set_ylabel('y')\n",
    "ax2.set_title('численное решение', pad = 10, fontsize = 12)\n",
    "#график относительной ошибки\n",
    "ax3.plot(xi, error(f_exact,sol,xi), '-', color='red')\n",
    "ax3.set_xlabel('x')\n",
    "ax3.set_ylabel('y')\n",
    "ax3.set_title('ошибка', pad = 10, fontsize = 12)\n",
    "\n",
    "plt.tight_layout()\n",
    "fig.savefig(\"ode13.png\")\n",
    "\n",
    "\n",
    "plt.show()"
   ]
  },
  {
   "cell_type": "code",
   "execution_count": null,
   "metadata": {},
   "outputs": [],
   "source": []
  }
 ],
 "metadata": {
  "kernelspec": {
   "display_name": "Python 3",
   "language": "python",
   "name": "python3"
  },
  "language_info": {
   "codemirror_mode": {
    "name": "ipython",
    "version": 3
   },
   "file_extension": ".py",
   "mimetype": "text/x-python",
   "name": "python",
   "nbconvert_exporter": "python",
   "pygments_lexer": "ipython3",
   "version": "3.8.5"
  }
 },
 "nbformat": 4,
 "nbformat_minor": 4
}
